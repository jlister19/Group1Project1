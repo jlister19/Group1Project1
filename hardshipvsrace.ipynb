{
 "cells": [
  {
   "cell_type": "code",
   "execution_count": 16,
   "id": "466700b9-aa63-463a-8035-02d058256e1d",
   "metadata": {},
   "outputs": [
    {
     "data": {
      "text/plain": [
       "1     61.630585\n",
       "2     22.139738\n",
       "3     38.304424\n",
       "4     16.696647\n",
       "5     50.364721\n",
       "        ...    \n",
       "73    53.120251\n",
       "74    58.918869\n",
       "75    26.803564\n",
       "76     3.920002\n",
       "77     6.406122\n",
       "Name: HDX_2015-2019, Length: 77, dtype: float64"
      ]
     },
     "execution_count": 16,
     "metadata": {},
     "output_type": "execute_result"
    }
   ],
   "source": [
    "import pandas as pd\n",
    "import pingouin as pg\n",
    "hardship = pd.read_csv(\"hardship_index.csv\")\n",
    "race = pd.read_csv(\"race_community.csv\")\n",
    "dfmerge = pd.merge(hardship, race, on = \"GEOID\")\n",
    "dfmerge = dfmerge.iloc[1: , :]\n",
    "x = dfmerge['HDX_2015-2019'].astype(float)\n",
    "y = dfmerge['PCT-W_2015-2019'].astype(float)"
   ]
  },
  {
   "cell_type": "markdown",
   "id": "923f4f06-a5dc-4347-a65b-7c847838626c",
   "metadata": {},
   "source": [
    "Hardship and % White are nearly perfectly correlated, where neighborhoods that are predominately White have low hardship levels and vice versa."
   ]
  },
  {
   "cell_type": "code",
   "execution_count": 18,
   "id": "57132ba5-6c10-423e-b9b8-2f8a3930e579",
   "metadata": {},
   "outputs": [
    {
     "data": {
      "text/html": [
       "<div>\n",
       "<style scoped>\n",
       "    .dataframe tbody tr th:only-of-type {\n",
       "        vertical-align: middle;\n",
       "    }\n",
       "\n",
       "    .dataframe tbody tr th {\n",
       "        vertical-align: top;\n",
       "    }\n",
       "\n",
       "    .dataframe thead th {\n",
       "        text-align: right;\n",
       "    }\n",
       "</style>\n",
       "<table border=\"1\" class=\"dataframe\">\n",
       "  <thead>\n",
       "    <tr style=\"text-align: right;\">\n",
       "      <th></th>\n",
       "      <th>n</th>\n",
       "      <th>r</th>\n",
       "      <th>CI95%</th>\n",
       "      <th>p-val</th>\n",
       "      <th>BF10</th>\n",
       "      <th>power</th>\n",
       "    </tr>\n",
       "  </thead>\n",
       "  <tbody>\n",
       "    <tr>\n",
       "      <th>pearson</th>\n",
       "      <td>77</td>\n",
       "      <td>-0.909</td>\n",
       "      <td>[-0.94, -0.86]</td>\n",
       "      <td>0.0</td>\n",
       "      <td>1.008e+27</td>\n",
       "      <td>1.0</td>\n",
       "    </tr>\n",
       "  </tbody>\n",
       "</table>\n",
       "</div>"
      ],
      "text/plain": [
       "          n      r           CI95%  p-val       BF10  power\n",
       "pearson  77 -0.909  [-0.94, -0.86]    0.0  1.008e+27    1.0"
      ]
     },
     "execution_count": 18,
     "metadata": {},
     "output_type": "execute_result"
    }
   ],
   "source": [
    "pg.corr(x, y).round(3)"
   ]
  }
 ],
 "metadata": {
  "kernelspec": {
   "display_name": "Python 3",
   "language": "python",
   "name": "python3"
  },
  "language_info": {
   "codemirror_mode": {
    "name": "ipython",
    "version": 3
   },
   "file_extension": ".py",
   "mimetype": "text/x-python",
   "name": "python",
   "nbconvert_exporter": "python",
   "pygments_lexer": "ipython3",
   "version": "3.8.8"
  }
 },
 "nbformat": 4,
 "nbformat_minor": 5
}
