{
 "cells": [
  {
   "cell_type": "code",
   "execution_count": 1,
   "metadata": {},
   "outputs": [],
   "source": [
    "from arcgis.mapping import WebMap\n",
    "from arcgis.gis import GIS\n",
    "gis = GIS()"
   ]
  },
  {
   "cell_type": "code",
   "execution_count": 2,
   "metadata": {},
   "outputs": [
    {
     "data": {
      "application/vnd.jupyter.widget-view+json": {
       "model_id": "2fc713a5395d4f538d78f31bf1b72837",
       "version_major": 2,
       "version_minor": 0
      },
      "text/plain": [
       "MapView(hide_mode_switch=True, layout=Layout(height='400px', width='100%'))"
      ]
     },
     "metadata": {},
     "output_type": "display_data"
    },
    {
     "data": {
      "text/html": [
       "<div class=\"map-static-img-preview-61af21bd-f24d-4860-9533-459d3c7779da\"><img src=\"\"></img></div>"
      ],
      "text/plain": [
       "<display.HTML object>"
      ]
     },
     "metadata": {},
     "output_type": "display_data"
    },
    {
     "data": {
      "text/html": [
       "<div class=\"map-html-embed-preview-61af21bd-f24d-4860-9533-459d3c7779da\"></div>"
      ],
      "text/plain": [
       "<display.HTML object>"
      ]
     },
     "metadata": {},
     "output_type": "display_data"
    }
   ],
   "source": [
    "webmap_item = gis.content.get(\"bd7b460ce4d64e2593223b56c6f85be9\")\n",
    "webmap = WebMap(webmap_item)\n",
    "webmap"
   ]
  },
  {
   "cell_type": "code",
   "execution_count": 3,
   "metadata": {},
   "outputs": [],
   "source": [
    "from arcgis.mapping import WebMap\n",
    "from arcgis.gis import GIS\n",
    "gis = GIS()"
   ]
  },
  {
   "cell_type": "code",
   "execution_count": 4,
   "metadata": {},
   "outputs": [
    {
     "data": {
      "application/vnd.jupyter.widget-view+json": {
       "model_id": "b5a801a630f54fb6a5a07e07a5f7cb30",
       "version_major": 2,
       "version_minor": 0
      },
      "text/plain": [
       "MapView(hide_mode_switch=True, layout=Layout(height='400px', width='100%'))"
      ]
     },
     "metadata": {},
     "output_type": "display_data"
    },
    {
     "data": {
      "text/html": [
       "<div class=\"map-static-img-preview-4a162bfc-4922-42b0-ad3b-364697b87633\"><img src=\"\"></img></div>"
      ],
      "text/plain": [
       "<display.HTML object>"
      ]
     },
     "metadata": {},
     "output_type": "display_data"
    },
    {
     "data": {
      "text/html": [
       "<div class=\"map-html-embed-preview-4a162bfc-4922-42b0-ad3b-364697b87633\"></div>"
      ],
      "text/plain": [
       "<display.HTML object>"
      ]
     },
     "metadata": {},
     "output_type": "display_data"
    }
   ],
   "source": [
    "webmap_item = gis.content.get(\"85396a014c9b4bf789b1ccf2f18a61f1\")\n",
    "webmap = WebMap(webmap_item)\n",
    "webmap"
   ]
  },
  {
   "cell_type": "code",
   "execution_count": 5,
   "metadata": {},
   "outputs": [],
   "source": [
    "from arcgis.mapping import WebMap\n",
    "from arcgis.gis import GIS\n",
    "gis = GIS()"
   ]
  },
  {
   "cell_type": "code",
   "execution_count": 6,
   "metadata": {},
   "outputs": [
    {
     "data": {
      "application/vnd.jupyter.widget-view+json": {
       "model_id": "1e1204995b6c4aab9cb633ff9cf4fb4b",
       "version_major": 2,
       "version_minor": 0
      },
      "text/plain": [
       "MapView(hide_mode_switch=True, layout=Layout(height='400px', width='100%'))"
      ]
     },
     "metadata": {},
     "output_type": "display_data"
    },
    {
     "data": {
      "text/html": [
       "<div class=\"map-static-img-preview-39a93ef3-c81f-4bee-9144-5bfaad3bec03\"><img src=\"\"></img></div>"
      ],
      "text/plain": [
       "<display.HTML object>"
      ]
     },
     "metadata": {},
     "output_type": "display_data"
    },
    {
     "data": {
      "text/html": [
       "<div class=\"map-html-embed-preview-39a93ef3-c81f-4bee-9144-5bfaad3bec03\"></div>"
      ],
      "text/plain": [
       "<display.HTML object>"
      ]
     },
     "metadata": {},
     "output_type": "display_data"
    }
   ],
   "source": [
    "webmap_item = gis.content.get(\"33f1459ef7a541e393b02ba338691177\")\n",
    "webmap = WebMap(webmap_item)\n",
    "webmap"
   ]
  },
  {
   "cell_type": "code",
   "execution_count": null,
   "metadata": {},
   "outputs": [],
   "source": []
  },
  {
   "cell_type": "code",
   "execution_count": null,
   "metadata": {},
   "outputs": [],
   "source": []
  }
 ],
 "metadata": {
  "kernelspec": {
   "display_name": "ArcGISPro",
   "language": "Python",
   "name": "python3"
  },
  "language_info": {
   "file_extension": ".py",
   "name": "python",
   "version": "3"
  }
 },
 "nbformat": 4,
 "nbformat_minor": 2
}
