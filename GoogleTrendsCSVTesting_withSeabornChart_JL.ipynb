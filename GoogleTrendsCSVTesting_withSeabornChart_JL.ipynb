{
 "cells": [
  {
   "cell_type": "markdown",
   "id": "9b1a3327-e7bd-4aec-a457-aaf112801c2e",
   "metadata": {},
   "source": [
    "## Uses PyTrends\n",
    "* Find Documenation here https://pypi.org/project/pytrends/\n",
    "* First run pip install pytrends in terminal"
   ]
  },
  {
   "cell_type": "code",
   "execution_count": 18,
   "id": "b05af95a-c799-4de3-8d90-75a6ee1e18c4",
   "metadata": {},
   "outputs": [
    {
     "name": "stdout",
     "output_type": "stream",
     "text": [
      "Execution time in sec.: 2.2256786823272705\n",
      "            domestic violence  domestic abuse  restraining order  \\\n",
      "date                                                               \n",
      "2020-01-10                 28               0                 28   \n",
      "2020-01-11                  0               0                  0   \n",
      "2020-01-12                 16              36                  0   \n",
      "2020-01-13                 40               0                  0   \n",
      "2020-01-14                 13               0                  0   \n",
      "...                       ...             ...                ...   \n",
      "2020-08-01                 32               0                 32   \n",
      "2020-08-02                 32               0                 32   \n",
      "2020-08-03                 28              32                  0   \n",
      "2020-08-04                 14               0                  0   \n",
      "2020-08-05                 28               0                  0   \n",
      "\n",
      "            order of protection  \n",
      "date                             \n",
      "2020-01-10                   44  \n",
      "2020-01-11                   51  \n",
      "2020-01-12                   50  \n",
      "2020-01-13                    0  \n",
      "2020-01-14                   42  \n",
      "...                         ...  \n",
      "2020-08-01                   51  \n",
      "2020-08-02                   51  \n",
      "2020-08-03                    0  \n",
      "2020-08-04                    0  \n",
      "2020-08-05                    0  \n",
      "\n",
      "[209 rows x 4 columns]\n"
     ]
    }
   ],
   "source": [
    "# You need to run \"pip install pytrends\" in terminal in order to import pytrends\n",
    "from pytrends.request import TrendReq\n",
    "import pandas as pd\n",
    "import time\n",
    "import matplotlib.pyplot as plt\n",
    "startTime = time.time()\n",
    "pytrend = TrendReq(hl='en-US', tz=360)\n",
    "\n",
    "colnames = [\"keywords\"]\n",
    "df = pd.read_csv(\"search_terms.csv\", names=colnames)\n",
    "df2 = df[\"keywords\"].values.tolist()\n",
    "df2.remove(\"Keywords\")\n",
    "\n",
    "dataset = []\n",
    "\n",
    "for x in range(0,len(df2)):\n",
    "     keywords = [df2[x]]\n",
    "     pytrend.build_payload(\n",
    "     kw_list=keywords,\n",
    "     cat=0,\n",
    "     timeframe='2020-01-10 2020-08-05', # from and to dates here\n",
    "     geo='US-IL') # \n",
    "     data = pytrend.interest_over_time()\n",
    "     if not data.empty:\n",
    "          data = data.drop(labels=['isPartial'],axis='columns')\n",
    "          dataset.append(data)\n",
    "\n",
    "df = pd.concat(dataset, axis=1)\n",
    "df.to_csv('trends.csv')\n",
    "executionTime = (time.time() - startTime)\n",
    "print('Execution time in sec.: ' + str(executionTime))\n",
    "print(df)"
   ]
  },
  {
   "cell_type": "code",
   "execution_count": 19,
   "id": "79695ea3-df4c-4d89-a6d9-01f176c8d6fc",
   "metadata": {},
   "outputs": [],
   "source": [
    "df = df.reset_index()\n",
    "rangedf = df[(df['date'] >= '2020-01-10') & (df['date'] <= '2020-08-05')]\n",
    "dfpre = rangedf[(rangedf['date'] >= '2020-01-10') & (rangedf['date'] <= '2020-03-19')]\n",
    "dflockdown = rangedf[(rangedf['date'] >= '2020-03-20') & (rangedf['date'] <= '2020-05-28')]\n",
    "dfpost = rangedf[(rangedf['date'] >= '2020-05-29') & (rangedf['date'] <= '2020-08-05')]"
   ]
  },
  {
   "cell_type": "code",
   "execution_count": 20,
   "id": "c120c2dc-01fd-48df-8f4f-303ddf863af9",
   "metadata": {},
   "outputs": [
    {
     "name": "stderr",
     "output_type": "stream",
     "text": [
      "<ipython-input-20-61fe75821e17>:2: SettingWithCopyWarning: \n",
      "A value is trying to be set on a copy of a slice from a DataFrame.\n",
      "Try using .loc[row_indexer,col_indexer] = value instead\n",
      "\n",
      "See the caveats in the documentation: https://pandas.pydata.org/pandas-docs/stable/user_guide/indexing.html#returning-a-view-versus-a-copy\n",
      "  dfpre[\"group\"] = 'Pre-lockdown'\n",
      "<ipython-input-20-61fe75821e17>:3: SettingWithCopyWarning: \n",
      "A value is trying to be set on a copy of a slice from a DataFrame.\n",
      "Try using .loc[row_indexer,col_indexer] = value instead\n",
      "\n",
      "See the caveats in the documentation: https://pandas.pydata.org/pandas-docs/stable/user_guide/indexing.html#returning-a-view-versus-a-copy\n",
      "  dflockdown[\"group\"] = 'Lockdown'\n",
      "<ipython-input-20-61fe75821e17>:4: SettingWithCopyWarning: \n",
      "A value is trying to be set on a copy of a slice from a DataFrame.\n",
      "Try using .loc[row_indexer,col_indexer] = value instead\n",
      "\n",
      "See the caveats in the documentation: https://pandas.pydata.org/pandas-docs/stable/user_guide/indexing.html#returning-a-view-versus-a-copy\n",
      "  dfpost[\"group\"] = 'Post-lockdown'\n"
     ]
    },
    {
     "data": {
      "text/html": [
       "<div>\n",
       "<style scoped>\n",
       "    .dataframe tbody tr th:only-of-type {\n",
       "        vertical-align: middle;\n",
       "    }\n",
       "\n",
       "    .dataframe tbody tr th {\n",
       "        vertical-align: top;\n",
       "    }\n",
       "\n",
       "    .dataframe thead th {\n",
       "        text-align: right;\n",
       "    }\n",
       "</style>\n",
       "<table border=\"1\" class=\"dataframe\">\n",
       "  <thead>\n",
       "    <tr style=\"text-align: right;\">\n",
       "      <th></th>\n",
       "      <th>domestic violence</th>\n",
       "      <th>domestic abuse</th>\n",
       "      <th>restraining order</th>\n",
       "      <th>order of protection</th>\n",
       "    </tr>\n",
       "    <tr>\n",
       "      <th>group</th>\n",
       "      <th></th>\n",
       "      <th></th>\n",
       "      <th></th>\n",
       "      <th></th>\n",
       "    </tr>\n",
       "  </thead>\n",
       "  <tbody>\n",
       "    <tr>\n",
       "      <th>Lockdown</th>\n",
       "      <td>28.318841</td>\n",
       "      <td>11.304348</td>\n",
       "      <td>11.971014</td>\n",
       "      <td>22.173913</td>\n",
       "    </tr>\n",
       "    <tr>\n",
       "      <th>Post-lockdown</th>\n",
       "      <td>24.000000</td>\n",
       "      <td>16.102941</td>\n",
       "      <td>9.573529</td>\n",
       "      <td>21.691176</td>\n",
       "    </tr>\n",
       "    <tr>\n",
       "      <th>Pre-lockdown</th>\n",
       "      <td>25.202899</td>\n",
       "      <td>13.507246</td>\n",
       "      <td>15.159420</td>\n",
       "      <td>25.144928</td>\n",
       "    </tr>\n",
       "  </tbody>\n",
       "</table>\n",
       "</div>"
      ],
      "text/plain": [
       "               domestic violence  domestic abuse  restraining order  \\\n",
       "group                                                                 \n",
       "Lockdown               28.318841       11.304348          11.971014   \n",
       "Post-lockdown          24.000000       16.102941           9.573529   \n",
       "Pre-lockdown           25.202899       13.507246          15.159420   \n",
       "\n",
       "               order of protection  \n",
       "group                               \n",
       "Lockdown                 22.173913  \n",
       "Post-lockdown            21.691176  \n",
       "Pre-lockdown             25.144928  "
      ]
     },
     "execution_count": 20,
     "metadata": {},
     "output_type": "execute_result"
    }
   ],
   "source": [
    "import pingouin as pg\n",
    "dfpre[\"group\"] = 'Pre-lockdown'\n",
    "dflockdown[\"group\"] = 'Lockdown'\n",
    "dfpost[\"group\"] = 'Post-lockdown'\n",
    "dfgroups = dfpre.iloc[:-1 , :].append(dflockdown).iloc[:-1 , :].append(dfpost).iloc[:-1 , :]\n",
    "dfgroups['order of protection'] = dfgroups[\"order of protection\"].astype(float)\n",
    "dfgroups['domestic abuse'] = dfgroups['domestic abuse'].astype(float)\n",
    "dfgroups['domestic violence'] = dfgroups['domestic violence'].astype(float)\n",
    "dfgroups['restraining order'] = dfgroups['restraining order'].astype(float)\n",
    "dfgroups.groupby('group').mean()"
   ]
  },
  {
   "cell_type": "code",
   "execution_count": 21,
   "id": "beb31da8-c8ce-4e80-b030-9f57c8e731c0",
   "metadata": {},
   "outputs": [
    {
     "data": {
      "text/html": [
       "<div>\n",
       "<style scoped>\n",
       "    .dataframe tbody tr th:only-of-type {\n",
       "        vertical-align: middle;\n",
       "    }\n",
       "\n",
       "    .dataframe tbody tr th {\n",
       "        vertical-align: top;\n",
       "    }\n",
       "\n",
       "    .dataframe thead th {\n",
       "        text-align: right;\n",
       "    }\n",
       "</style>\n",
       "<table border=\"1\" class=\"dataframe\">\n",
       "  <thead>\n",
       "    <tr style=\"text-align: right;\">\n",
       "      <th></th>\n",
       "      <th>domestic violence</th>\n",
       "      <th>domestic abuse</th>\n",
       "      <th>restraining order</th>\n",
       "      <th>order of protection</th>\n",
       "    </tr>\n",
       "    <tr>\n",
       "      <th>group</th>\n",
       "      <th></th>\n",
       "      <th></th>\n",
       "      <th></th>\n",
       "      <th></th>\n",
       "    </tr>\n",
       "  </thead>\n",
       "  <tbody>\n",
       "    <tr>\n",
       "      <th>Lockdown</th>\n",
       "      <td>21.503415</td>\n",
       "      <td>20.362382</td>\n",
       "      <td>19.759563</td>\n",
       "      <td>30.560911</td>\n",
       "    </tr>\n",
       "    <tr>\n",
       "      <th>Post-lockdown</th>\n",
       "      <td>19.363761</td>\n",
       "      <td>24.466328</td>\n",
       "      <td>16.026393</td>\n",
       "      <td>26.294121</td>\n",
       "    </tr>\n",
       "    <tr>\n",
       "      <th>Pre-lockdown</th>\n",
       "      <td>19.867635</td>\n",
       "      <td>18.584167</td>\n",
       "      <td>20.575273</td>\n",
       "      <td>27.962830</td>\n",
       "    </tr>\n",
       "  </tbody>\n",
       "</table>\n",
       "</div>"
      ],
      "text/plain": [
       "               domestic violence  domestic abuse  restraining order  \\\n",
       "group                                                                 \n",
       "Lockdown               21.503415       20.362382          19.759563   \n",
       "Post-lockdown          19.363761       24.466328          16.026393   \n",
       "Pre-lockdown           19.867635       18.584167          20.575273   \n",
       "\n",
       "               order of protection  \n",
       "group                               \n",
       "Lockdown                 30.560911  \n",
       "Post-lockdown            26.294121  \n",
       "Pre-lockdown             27.962830  "
      ]
     },
     "execution_count": 21,
     "metadata": {},
     "output_type": "execute_result"
    }
   ],
   "source": [
    "dfgroups.groupby('group').std()"
   ]
  },
  {
   "cell_type": "code",
   "execution_count": 22,
   "id": "4def2a4e-1516-497a-bb82-35cc1f049bab",
   "metadata": {},
   "outputs": [
    {
     "data": {
      "text/html": [
       "<div>\n",
       "<style scoped>\n",
       "    .dataframe tbody tr th:only-of-type {\n",
       "        vertical-align: middle;\n",
       "    }\n",
       "\n",
       "    .dataframe tbody tr th {\n",
       "        vertical-align: top;\n",
       "    }\n",
       "\n",
       "    .dataframe thead th {\n",
       "        text-align: right;\n",
       "    }\n",
       "</style>\n",
       "<table border=\"1\" class=\"dataframe\">\n",
       "  <thead>\n",
       "    <tr style=\"text-align: right;\">\n",
       "      <th></th>\n",
       "      <th>Source</th>\n",
       "      <th>ddof1</th>\n",
       "      <th>ddof2</th>\n",
       "      <th>F</th>\n",
       "      <th>p-unc</th>\n",
       "      <th>np2</th>\n",
       "    </tr>\n",
       "  </thead>\n",
       "  <tbody>\n",
       "    <tr>\n",
       "      <th>0</th>\n",
       "      <td>group</td>\n",
       "      <td>2</td>\n",
       "      <td>135.149</td>\n",
       "      <td>0.791</td>\n",
       "      <td>0.455</td>\n",
       "      <td>0.008</td>\n",
       "    </tr>\n",
       "  </tbody>\n",
       "</table>\n",
       "</div>"
      ],
      "text/plain": [
       "  Source  ddof1    ddof2      F  p-unc    np2\n",
       "0  group      2  135.149  0.791  0.455  0.008"
      ]
     },
     "execution_count": 22,
     "metadata": {},
     "output_type": "execute_result"
    }
   ],
   "source": [
    "pg.welch_anova(dv='domestic violence', between='group', data=dfgroups).round(3)"
   ]
  },
  {
   "cell_type": "code",
   "execution_count": 24,
   "id": "a1a94c8c",
   "metadata": {},
   "outputs": [],
   "source": [
    "# pg.pairwise_tukey(dv='domestic abuse', between='group', data=dfgroups).round(3)"
   ]
  },
  {
   "cell_type": "code",
   "execution_count": 25,
   "id": "348e223a-0f8f-45ae-8e57-aee877336541",
   "metadata": {},
   "outputs": [
    {
     "data": {
      "text/html": [
       "<div>\n",
       "<style scoped>\n",
       "    .dataframe tbody tr th:only-of-type {\n",
       "        vertical-align: middle;\n",
       "    }\n",
       "\n",
       "    .dataframe tbody tr th {\n",
       "        vertical-align: top;\n",
       "    }\n",
       "\n",
       "    .dataframe thead th {\n",
       "        text-align: right;\n",
       "    }\n",
       "</style>\n",
       "<table border=\"1\" class=\"dataframe\">\n",
       "  <thead>\n",
       "    <tr style=\"text-align: right;\">\n",
       "      <th></th>\n",
       "      <th>Source</th>\n",
       "      <th>ddof1</th>\n",
       "      <th>ddof2</th>\n",
       "      <th>F</th>\n",
       "      <th>p-unc</th>\n",
       "      <th>np2</th>\n",
       "    </tr>\n",
       "  </thead>\n",
       "  <tbody>\n",
       "    <tr>\n",
       "      <th>0</th>\n",
       "      <td>group</td>\n",
       "      <td>2</td>\n",
       "      <td>133.851</td>\n",
       "      <td>1.571</td>\n",
       "      <td>0.212</td>\n",
       "      <td>0.015</td>\n",
       "    </tr>\n",
       "  </tbody>\n",
       "</table>\n",
       "</div>"
      ],
      "text/plain": [
       "  Source  ddof1    ddof2      F  p-unc    np2\n",
       "0  group      2  133.851  1.571  0.212  0.015"
      ]
     },
     "execution_count": 25,
     "metadata": {},
     "output_type": "execute_result"
    }
   ],
   "source": [
    "pg.welch_anova(dv='restraining order', between='group', data=dfgroups).round(3)"
   ]
  },
  {
   "cell_type": "code",
   "execution_count": 27,
   "id": "e8895013-81f4-4893-87e2-f41b5caec606",
   "metadata": {},
   "outputs": [
    {
     "data": {
      "text/html": [
       "<div>\n",
       "<style scoped>\n",
       "    .dataframe tbody tr th:only-of-type {\n",
       "        vertical-align: middle;\n",
       "    }\n",
       "\n",
       "    .dataframe tbody tr th {\n",
       "        vertical-align: top;\n",
       "    }\n",
       "\n",
       "    .dataframe thead th {\n",
       "        text-align: right;\n",
       "    }\n",
       "</style>\n",
       "<table border=\"1\" class=\"dataframe\">\n",
       "  <thead>\n",
       "    <tr style=\"text-align: right;\">\n",
       "      <th></th>\n",
       "      <th>Source</th>\n",
       "      <th>ddof1</th>\n",
       "      <th>ddof2</th>\n",
       "      <th>F</th>\n",
       "      <th>p-unc</th>\n",
       "      <th>np2</th>\n",
       "    </tr>\n",
       "  </thead>\n",
       "  <tbody>\n",
       "    <tr>\n",
       "      <th>0</th>\n",
       "      <td>group</td>\n",
       "      <td>2</td>\n",
       "      <td>133.487</td>\n",
       "      <td>0.777</td>\n",
       "      <td>0.462</td>\n",
       "      <td>0.009</td>\n",
       "    </tr>\n",
       "  </tbody>\n",
       "</table>\n",
       "</div>"
      ],
      "text/plain": [
       "  Source  ddof1    ddof2      F  p-unc    np2\n",
       "0  group      2  133.487  0.777  0.462  0.009"
      ]
     },
     "execution_count": 27,
     "metadata": {},
     "output_type": "execute_result"
    }
   ],
   "source": [
    "pg.welch_anova(dv='domestic abuse', between='group', data=dfgroups).round(3)"
   ]
  },
  {
   "cell_type": "code",
   "execution_count": 28,
   "id": "315e136d-ae62-4f34-b6ce-6fdd96eee7ec",
   "metadata": {},
   "outputs": [
    {
     "data": {
      "text/html": [
       "<div>\n",
       "<style scoped>\n",
       "    .dataframe tbody tr th:only-of-type {\n",
       "        vertical-align: middle;\n",
       "    }\n",
       "\n",
       "    .dataframe tbody tr th {\n",
       "        vertical-align: top;\n",
       "    }\n",
       "\n",
       "    .dataframe thead th {\n",
       "        text-align: right;\n",
       "    }\n",
       "</style>\n",
       "<table border=\"1\" class=\"dataframe\">\n",
       "  <thead>\n",
       "    <tr style=\"text-align: right;\">\n",
       "      <th></th>\n",
       "      <th>Source</th>\n",
       "      <th>ddof1</th>\n",
       "      <th>ddof2</th>\n",
       "      <th>F</th>\n",
       "      <th>p-unc</th>\n",
       "      <th>np2</th>\n",
       "    </tr>\n",
       "  </thead>\n",
       "  <tbody>\n",
       "    <tr>\n",
       "      <th>0</th>\n",
       "      <td>group</td>\n",
       "      <td>2</td>\n",
       "      <td>134.963</td>\n",
       "      <td>0.311</td>\n",
       "      <td>0.733</td>\n",
       "      <td>0.003</td>\n",
       "    </tr>\n",
       "  </tbody>\n",
       "</table>\n",
       "</div>"
      ],
      "text/plain": [
       "  Source  ddof1    ddof2      F  p-unc    np2\n",
       "0  group      2  134.963  0.311  0.733  0.003"
      ]
     },
     "execution_count": 28,
     "metadata": {},
     "output_type": "execute_result"
    }
   ],
   "source": [
    "pg.welch_anova(dv='order of protection', between='group', data=dfgroups).round(3)"
   ]
  },
  {
   "cell_type": "code",
   "execution_count": 30,
   "id": "6c5c49ab-bd8a-48e2-9934-61167af35f7e",
   "metadata": {},
   "outputs": [
    {
     "data": {
      "image/png": "[encoded data removed]",
      "text/plain": [
       "<Figure size 720x504 with 4 Axes>"
      ]
     },
     "metadata": {
      "needs_background": "light"
     },
     "output_type": "display_data"
    }
   ],
   "source": [
    "plt.figure(figsize=(10,7))\n",
    "\n",
    "plt.subplot(4, 1, 1)\n",
    "plt.plot(dfgroups['date'], dfgroups[\"domestic violence\"],'black')\n",
    "plt.title('Domestic Violence')\n",
    "\n",
    "plt.subplot(4, 1, 2)\n",
    "plt.plot(dfgroups['date'], dfgroups[\"domestic abuse\"],'red')\n",
    "plt.title('Domestic Abuse')\n",
    "\n",
    "plt.subplot(4, 1, 3)\n",
    "plt.plot(dfgroups['date'],dfgroups[\"restraining order\"],'green')\n",
    "plt.title('Restraining Order')\n",
    "\n",
    "plt.subplot(4, 1, 4)\n",
    "plt.plot(dfgroups['date'],dfgroups[\"order of protection\"],'blue')\n",
    "plt.title('Order of Protection')\n",
    "\n",
    "plt.tight_layout()\n",
    "plt.savefig(\"rawsearchtermsgraph.png\", dpi = 350)\n",
    "plt.show();"
   ]
  },
  {
   "cell_type": "code",
   "execution_count": null,
   "id": "d6bd9e15-d2d0-4b84-aa1a-3ae68d4f3a37",
   "metadata": {},
   "outputs": [],
   "source": []
  },
  {
   "cell_type": "code",
   "execution_count": null,
   "id": "a7c78719",
   "metadata": {},
   "outputs": [],
   "source": []
  }
 ],
 "metadata": {
  "kernelspec": {
   "display_name": "Python 3",
   "language": "python",
   "name": "python3"
  },
  "language_info": {
   "codemirror_mode": {
    "name": "ipython",
    "version": 3
   },
   "file_extension": ".py",
   "mimetype": "text/x-python",
   "name": "python",
   "nbconvert_exporter": "python",
   "pygments_lexer": "ipython3",
   "version": "3.8.8"
  },
  "widgets": {
   "application/vnd.jupyter.widget-state+json": {
    "state": {},
    "version_major": 2,
    "version_minor": 0
   }
  }
 },
 "nbformat": 4,
 "nbformat_minor": 5
}
