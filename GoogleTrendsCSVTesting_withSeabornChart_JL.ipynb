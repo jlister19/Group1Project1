{
 "cells": [
  {
   "cell_type": "markdown",
   "id": "9b1a3327-e7bd-4aec-a457-aaf112801c2e",
   "metadata": {},
   "source": [
    "## Uses PyTrends\n",
    "* Find Documenation here https://pypi.org/project/pytrends/\n",
    "* First run pip install pytrends in terminal"
   ]
  },
  {
   "cell_type": "code",
   "execution_count": 62,
   "id": "b05af95a-c799-4de3-8d90-75a6ee1e18c4",
   "metadata": {},
   "outputs": [
    {
     "name": "stdout",
     "output_type": "stream",
     "text": [
      "Execution time in sec.: 2.262451410293579\n",
      "            domestic violence hotline  domestic violence help  \\\n",
      "date                                                            \n",
      "2020-01-10                          0                       0   \n",
      "2020-01-11                          0                       0   \n",
      "2020-01-12                          0                       0   \n",
      "2020-01-13                          0                       0   \n",
      "2020-01-14                          0                       0   \n",
      "...                               ...                     ...   \n",
      "2020-08-01                          0                       0   \n",
      "2020-08-02                          0                       0   \n",
      "2020-08-03                          0                       0   \n",
      "2020-08-04                         85                       0   \n",
      "2020-08-05                          0                       0   \n",
      "\n",
      "            domestic abuse hotline  domestic abuse help  order of protection  \n",
      "date                                                                          \n",
      "2020-01-10                      81                    0                   66  \n",
      "2020-01-11                       0                    0                   38  \n",
      "2020-01-12                       0                    0                    0  \n",
      "2020-01-13                       0                    0                   31  \n",
      "2020-01-14                       0                    0                    0  \n",
      "...                            ...                  ...                  ...  \n",
      "2020-08-01                       0                    0                   38  \n",
      "2020-08-02                       0                    0                    0  \n",
      "2020-08-03                       0                    0                    0  \n",
      "2020-08-04                       0                    0                   66  \n",
      "2020-08-05                      81                    0                  100  \n",
      "\n",
      "[209 rows x 5 columns]\n"
     ]
    }
   ],
   "source": [
    "# You need to run \"pip install pytrends\" in terminal in order to import pytrends\n",
    "from pytrends.request import TrendReq\n",
    "import pandas as pd\n",
    "import time\n",
    "import matplotlib.pyplot as plt\n",
    "startTime = time.time()\n",
    "pytrend = TrendReq(hl='en-US', tz=360)\n",
    "\n",
    "colnames = [\"keywords\"]\n",
    "df = pd.read_csv(\"search_terms.csv\", names=colnames)\n",
    "df2 = df[\"keywords\"].values.tolist()\n",
    "df2.remove(\"Keywords\")\n",
    "\n",
    "dataset = []\n",
    "\n",
    "for x in range(0,len(df2)):\n",
    "     keywords = [df2[x]]\n",
    "     pytrend.build_payload(\n",
    "     kw_list=keywords,\n",
    "     cat=0,\n",
    "     timeframe='2020-01-10 2020-08-05', # from and to dates here\n",
    "     geo='US-IL') # \n",
    "     data = pytrend.interest_over_time()\n",
    "     if not data.empty:\n",
    "          data = data.drop(labels=['isPartial'],axis='columns')\n",
    "          dataset.append(data)\n",
    "\n",
    "df = pd.concat(dataset, axis=1)\n",
    "df.to_csv('trends.csv')\n",
    "executionTime = (time.time() - startTime)\n",
    "print('Execution time in sec.: ' + str(executionTime))\n",
    "print(df)"
   ]
  },
  {
   "cell_type": "code",
   "execution_count": 63,
   "id": "79695ea3-df4c-4d89-a6d9-01f176c8d6fc",
   "metadata": {},
   "outputs": [],
   "source": [
    "df = df.reset_index()\n",
    "rangedf = df[(df['date'] >= '2020-01-10') & (df['date'] <= '2020-08-05')]\n",
    "dfpre = rangedf[(rangedf['date'] >= '2020-01-10') & (rangedf['date'] <= '2020-03-19')]\n",
    "dflockdown = rangedf[(rangedf['date'] >= '2020-03-20') & (rangedf['date'] <= '2020-05-28')]\n",
    "dfpost = rangedf[(rangedf['date'] >= '2020-05-29') & (rangedf['date'] <= '2020-08-05')]"
   ]
  },
  {
   "cell_type": "code",
   "execution_count": 64,
   "id": "c120c2dc-01fd-48df-8f4f-303ddf863af9",
   "metadata": {},
   "outputs": [
    {
     "name": "stderr",
     "output_type": "stream",
     "text": [
      "<ipython-input-64-606f29363f12>:2: SettingWithCopyWarning: \n",
      "A value is trying to be set on a copy of a slice from a DataFrame.\n",
      "Try using .loc[row_indexer,col_indexer] = value instead\n",
      "\n",
      "See the caveats in the documentation: https://pandas.pydata.org/pandas-docs/stable/user_guide/indexing.html#returning-a-view-versus-a-copy\n",
      "  dfpre[\"group\"] = 'Pre-lockdown'\n",
      "<ipython-input-64-606f29363f12>:3: SettingWithCopyWarning: \n",
      "A value is trying to be set on a copy of a slice from a DataFrame.\n",
      "Try using .loc[row_indexer,col_indexer] = value instead\n",
      "\n",
      "See the caveats in the documentation: https://pandas.pydata.org/pandas-docs/stable/user_guide/indexing.html#returning-a-view-versus-a-copy\n",
      "  dflockdown[\"group\"] = 'Lockdown'\n",
      "<ipython-input-64-606f29363f12>:4: SettingWithCopyWarning: \n",
      "A value is trying to be set on a copy of a slice from a DataFrame.\n",
      "Try using .loc[row_indexer,col_indexer] = value instead\n",
      "\n",
      "See the caveats in the documentation: https://pandas.pydata.org/pandas-docs/stable/user_guide/indexing.html#returning-a-view-versus-a-copy\n",
      "  dfpost[\"group\"] = 'Post-lockdown'\n"
     ]
    },
    {
     "data": {
      "text/html": [
       "<div>\n",
       "<style scoped>\n",
       "    .dataframe tbody tr th:only-of-type {\n",
       "        vertical-align: middle;\n",
       "    }\n",
       "\n",
       "    .dataframe tbody tr th {\n",
       "        vertical-align: top;\n",
       "    }\n",
       "\n",
       "    .dataframe thead th {\n",
       "        text-align: right;\n",
       "    }\n",
       "</style>\n",
       "<table border=\"1\" class=\"dataframe\">\n",
       "  <thead>\n",
       "    <tr style=\"text-align: right;\">\n",
       "      <th></th>\n",
       "      <th>domestic violence hotline</th>\n",
       "      <th>domestic violence help</th>\n",
       "      <th>domestic abuse hotline</th>\n",
       "      <th>domestic abuse help</th>\n",
       "      <th>order of protection</th>\n",
       "    </tr>\n",
       "    <tr>\n",
       "      <th>group</th>\n",
       "      <th></th>\n",
       "      <th></th>\n",
       "      <th></th>\n",
       "      <th></th>\n",
       "      <th></th>\n",
       "    </tr>\n",
       "  </thead>\n",
       "  <tbody>\n",
       "    <tr>\n",
       "      <th>Lockdown</th>\n",
       "      <td>5.420290</td>\n",
       "      <td>3.405797</td>\n",
       "      <td>3.115942</td>\n",
       "      <td>1.449275</td>\n",
       "      <td>14.101449</td>\n",
       "    </tr>\n",
       "    <tr>\n",
       "      <th>Post-lockdown</th>\n",
       "      <td>9.235294</td>\n",
       "      <td>2.338235</td>\n",
       "      <td>3.632353</td>\n",
       "      <td>0.000000</td>\n",
       "      <td>20.176471</td>\n",
       "    </tr>\n",
       "    <tr>\n",
       "      <th>Pre-lockdown</th>\n",
       "      <td>1.144928</td>\n",
       "      <td>3.927536</td>\n",
       "      <td>5.028986</td>\n",
       "      <td>0.000000</td>\n",
       "      <td>21.362319</td>\n",
       "    </tr>\n",
       "  </tbody>\n",
       "</table>\n",
       "</div>"
      ],
      "text/plain": [
       "               domestic violence hotline  domestic violence help  \\\n",
       "group                                                              \n",
       "Lockdown                        5.420290                3.405797   \n",
       "Post-lockdown                   9.235294                2.338235   \n",
       "Pre-lockdown                    1.144928                3.927536   \n",
       "\n",
       "               domestic abuse hotline  domestic abuse help  \\\n",
       "group                                                        \n",
       "Lockdown                     3.115942             1.449275   \n",
       "Post-lockdown                3.632353             0.000000   \n",
       "Pre-lockdown                 5.028986             0.000000   \n",
       "\n",
       "               order of protection  \n",
       "group                               \n",
       "Lockdown                 14.101449  \n",
       "Post-lockdown            20.176471  \n",
       "Pre-lockdown             21.362319  "
      ]
     },
     "execution_count": 64,
     "metadata": {},
     "output_type": "execute_result"
    }
   ],
   "source": [
    "import pingouin as pg\n",
    "dfpre[\"group\"] = 'Pre-lockdown'\n",
    "dflockdown[\"group\"] = 'Lockdown'\n",
    "dfpost[\"group\"] = 'Post-lockdown'\n",
    "dfgroups = dfpre.iloc[:-1 , :].append(dflockdown).iloc[:-1 , :].append(dfpost).iloc[:-1 , :]\n",
    "dfgroups['order of protection'] = dfgroups[\"order of protection\"].astype(float)\n",
    "dfgroups['domestic abuse help'] = dfgroups['domestic abuse help'].astype(float)\n",
    "dfgroups['domestic abuse hotline'] = dfgroups['domestic abuse hotline'].astype(float)\n",
    "dfgroups['domestic violence help'] = dfgroups['domestic violence help'].astype(float)\n",
    "dfgroups['domestic violence hotline'] = dfgroups['domestic violence hotline'].astype(float)\n",
    "dfgroups.groupby('group').mean()"
   ]
  },
  {
   "cell_type": "code",
   "execution_count": 65,
   "id": "beb31da8-c8ce-4e80-b030-9f57c8e731c0",
   "metadata": {},
   "outputs": [
    {
     "data": {
      "text/html": [
       "<div>\n",
       "<style scoped>\n",
       "    .dataframe tbody tr th:only-of-type {\n",
       "        vertical-align: middle;\n",
       "    }\n",
       "\n",
       "    .dataframe tbody tr th {\n",
       "        vertical-align: top;\n",
       "    }\n",
       "\n",
       "    .dataframe thead th {\n",
       "        text-align: right;\n",
       "    }\n",
       "</style>\n",
       "<table border=\"1\" class=\"dataframe\">\n",
       "  <thead>\n",
       "    <tr style=\"text-align: right;\">\n",
       "      <th></th>\n",
       "      <th>domestic violence hotline</th>\n",
       "      <th>domestic violence help</th>\n",
       "      <th>domestic abuse hotline</th>\n",
       "      <th>domestic abuse help</th>\n",
       "      <th>order of protection</th>\n",
       "    </tr>\n",
       "    <tr>\n",
       "      <th>group</th>\n",
       "      <th></th>\n",
       "      <th></th>\n",
       "      <th></th>\n",
       "      <th></th>\n",
       "      <th></th>\n",
       "    </tr>\n",
       "  </thead>\n",
       "  <tbody>\n",
       "    <tr>\n",
       "      <th>Lockdown</th>\n",
       "      <td>19.539858</td>\n",
       "      <td>16.132101</td>\n",
       "      <td>14.736446</td>\n",
       "      <td>12.038585</td>\n",
       "      <td>19.513302</td>\n",
       "    </tr>\n",
       "    <tr>\n",
       "      <th>Post-lockdown</th>\n",
       "      <td>27.521562</td>\n",
       "      <td>13.534489</td>\n",
       "      <td>17.054701</td>\n",
       "      <td>0.000000</td>\n",
       "      <td>25.489794</td>\n",
       "    </tr>\n",
       "    <tr>\n",
       "      <th>Pre-lockdown</th>\n",
       "      <td>9.510482</td>\n",
       "      <td>18.628188</td>\n",
       "      <td>20.564083</td>\n",
       "      <td>0.000000</td>\n",
       "      <td>24.954058</td>\n",
       "    </tr>\n",
       "  </tbody>\n",
       "</table>\n",
       "</div>"
      ],
      "text/plain": [
       "               domestic violence hotline  domestic violence help  \\\n",
       "group                                                              \n",
       "Lockdown                       19.539858               16.132101   \n",
       "Post-lockdown                  27.521562               13.534489   \n",
       "Pre-lockdown                    9.510482               18.628188   \n",
       "\n",
       "               domestic abuse hotline  domestic abuse help  \\\n",
       "group                                                        \n",
       "Lockdown                    14.736446            12.038585   \n",
       "Post-lockdown               17.054701             0.000000   \n",
       "Pre-lockdown                20.564083             0.000000   \n",
       "\n",
       "               order of protection  \n",
       "group                               \n",
       "Lockdown                 19.513302  \n",
       "Post-lockdown            25.489794  \n",
       "Pre-lockdown             24.954058  "
      ]
     },
     "execution_count": 65,
     "metadata": {},
     "output_type": "execute_result"
    }
   ],
   "source": [
    "dfgroups.groupby('group').std()"
   ]
  },
  {
   "cell_type": "code",
   "execution_count": 67,
   "id": "4def2a4e-1516-497a-bb82-35cc1f049bab",
   "metadata": {},
   "outputs": [
    {
     "data": {
      "text/html": [
       "<div>\n",
       "<style scoped>\n",
       "    .dataframe tbody tr th:only-of-type {\n",
       "        vertical-align: middle;\n",
       "    }\n",
       "\n",
       "    .dataframe tbody tr th {\n",
       "        vertical-align: top;\n",
       "    }\n",
       "\n",
       "    .dataframe thead th {\n",
       "        text-align: right;\n",
       "    }\n",
       "</style>\n",
       "<table border=\"1\" class=\"dataframe\">\n",
       "  <thead>\n",
       "    <tr style=\"text-align: right;\">\n",
       "      <th></th>\n",
       "      <th>Source</th>\n",
       "      <th>ddof1</th>\n",
       "      <th>ddof2</th>\n",
       "      <th>F</th>\n",
       "      <th>p-unc</th>\n",
       "      <th>np2</th>\n",
       "    </tr>\n",
       "  </thead>\n",
       "  <tbody>\n",
       "    <tr>\n",
       "      <th>0</th>\n",
       "      <td>group</td>\n",
       "      <td>2</td>\n",
       "      <td>113.648</td>\n",
       "      <td>3.482</td>\n",
       "      <td>0.034</td>\n",
       "      <td>0.026</td>\n",
       "    </tr>\n",
       "  </tbody>\n",
       "</table>\n",
       "</div>"
      ],
      "text/plain": [
       "  Source  ddof1    ddof2      F  p-unc    np2\n",
       "0  group      2  113.648  3.482  0.034  0.026"
      ]
     },
     "execution_count": 67,
     "metadata": {},
     "output_type": "execute_result"
    }
   ],
   "source": [
    "pg.welch_anova(dv='domestic violence hotline', between='group', data=dfgroups).round(3)"
   ]
  },
  {
   "cell_type": "code",
   "execution_count": 72,
   "id": "a1a94c8c",
   "metadata": {},
   "outputs": [
    {
     "data": {
      "text/html": [
       "<div>\n",
       "<style scoped>\n",
       "    .dataframe tbody tr th:only-of-type {\n",
       "        vertical-align: middle;\n",
       "    }\n",
       "\n",
       "    .dataframe tbody tr th {\n",
       "        vertical-align: top;\n",
       "    }\n",
       "\n",
       "    .dataframe thead th {\n",
       "        text-align: right;\n",
       "    }\n",
       "</style>\n",
       "<table border=\"1\" class=\"dataframe\">\n",
       "  <thead>\n",
       "    <tr style=\"text-align: right;\">\n",
       "      <th></th>\n",
       "      <th>A</th>\n",
       "      <th>B</th>\n",
       "      <th>mean(A)</th>\n",
       "      <th>mean(B)</th>\n",
       "      <th>diff</th>\n",
       "      <th>se</th>\n",
       "      <th>T</th>\n",
       "      <th>p-tukey</th>\n",
       "      <th>hedges</th>\n",
       "    </tr>\n",
       "  </thead>\n",
       "  <tbody>\n",
       "    <tr>\n",
       "      <th>0</th>\n",
       "      <td>Lockdown</td>\n",
       "      <td>Post-lockdown</td>\n",
       "      <td>5.420</td>\n",
       "      <td>9.235</td>\n",
       "      <td>-3.815</td>\n",
       "      <td>3.452</td>\n",
       "      <td>-1.105</td>\n",
       "      <td>0.512</td>\n",
       "      <td>-0.188</td>\n",
       "    </tr>\n",
       "    <tr>\n",
       "      <th>1</th>\n",
       "      <td>Lockdown</td>\n",
       "      <td>Pre-lockdown</td>\n",
       "      <td>5.420</td>\n",
       "      <td>1.145</td>\n",
       "      <td>4.275</td>\n",
       "      <td>3.440</td>\n",
       "      <td>1.243</td>\n",
       "      <td>0.431</td>\n",
       "      <td>0.210</td>\n",
       "    </tr>\n",
       "    <tr>\n",
       "      <th>2</th>\n",
       "      <td>Post-lockdown</td>\n",
       "      <td>Pre-lockdown</td>\n",
       "      <td>9.235</td>\n",
       "      <td>1.145</td>\n",
       "      <td>8.090</td>\n",
       "      <td>3.452</td>\n",
       "      <td>2.343</td>\n",
       "      <td>0.052</td>\n",
       "      <td>0.398</td>\n",
       "    </tr>\n",
       "  </tbody>\n",
       "</table>\n",
       "</div>"
      ],
      "text/plain": [
       "               A              B  mean(A)  mean(B)   diff     se      T  \\\n",
       "0       Lockdown  Post-lockdown    5.420    9.235 -3.815  3.452 -1.105   \n",
       "1       Lockdown   Pre-lockdown    5.420    1.145  4.275  3.440  1.243   \n",
       "2  Post-lockdown   Pre-lockdown    9.235    1.145  8.090  3.452  2.343   \n",
       "\n",
       "   p-tukey  hedges  \n",
       "0    0.512  -0.188  \n",
       "1    0.431   0.210  \n",
       "2    0.052   0.398  "
      ]
     },
     "execution_count": 72,
     "metadata": {},
     "output_type": "execute_result"
    }
   ],
   "source": [
    "pg.pairwise_tukey(dv='domestic violence hotline', between='group', data=dfgroups).round(3)"
   ]
  },
  {
   "cell_type": "code",
   "execution_count": 68,
   "id": "09102221-ef6e-410e-836c-7f60995a7a35",
   "metadata": {},
   "outputs": [
    {
     "data": {
      "text/html": [
       "<div>\n",
       "<style scoped>\n",
       "    .dataframe tbody tr th:only-of-type {\n",
       "        vertical-align: middle;\n",
       "    }\n",
       "\n",
       "    .dataframe tbody tr th {\n",
       "        vertical-align: top;\n",
       "    }\n",
       "\n",
       "    .dataframe thead th {\n",
       "        text-align: right;\n",
       "    }\n",
       "</style>\n",
       "<table border=\"1\" class=\"dataframe\">\n",
       "  <thead>\n",
       "    <tr style=\"text-align: right;\">\n",
       "      <th></th>\n",
       "      <th>Source</th>\n",
       "      <th>ddof1</th>\n",
       "      <th>ddof2</th>\n",
       "      <th>F</th>\n",
       "      <th>p-unc</th>\n",
       "      <th>np2</th>\n",
       "    </tr>\n",
       "  </thead>\n",
       "  <tbody>\n",
       "    <tr>\n",
       "      <th>0</th>\n",
       "      <td>group</td>\n",
       "      <td>2</td>\n",
       "      <td>133.371</td>\n",
       "      <td>0.186</td>\n",
       "      <td>0.83</td>\n",
       "      <td>0.002</td>\n",
       "    </tr>\n",
       "  </tbody>\n",
       "</table>\n",
       "</div>"
      ],
      "text/plain": [
       "  Source  ddof1    ddof2      F  p-unc    np2\n",
       "0  group      2  133.371  0.186   0.83  0.002"
      ]
     },
     "execution_count": 68,
     "metadata": {},
     "output_type": "execute_result"
    }
   ],
   "source": [
    "pg.welch_anova(dv='domestic violence help', between='group', data=dfgroups).round(3)"
   ]
  },
  {
   "cell_type": "code",
   "execution_count": 69,
   "id": "348e223a-0f8f-45ae-8e57-aee877336541",
   "metadata": {},
   "outputs": [
    {
     "data": {
      "text/html": [
       "<div>\n",
       "<style scoped>\n",
       "    .dataframe tbody tr th:only-of-type {\n",
       "        vertical-align: middle;\n",
       "    }\n",
       "\n",
       "    .dataframe tbody tr th {\n",
       "        vertical-align: top;\n",
       "    }\n",
       "\n",
       "    .dataframe thead th {\n",
       "        text-align: right;\n",
       "    }\n",
       "</style>\n",
       "<table border=\"1\" class=\"dataframe\">\n",
       "  <thead>\n",
       "    <tr style=\"text-align: right;\">\n",
       "      <th></th>\n",
       "      <th>Source</th>\n",
       "      <th>ddof1</th>\n",
       "      <th>ddof2</th>\n",
       "      <th>F</th>\n",
       "      <th>p-unc</th>\n",
       "      <th>np2</th>\n",
       "    </tr>\n",
       "  </thead>\n",
       "  <tbody>\n",
       "    <tr>\n",
       "      <th>0</th>\n",
       "      <td>group</td>\n",
       "      <td>2</td>\n",
       "      <td>132.988</td>\n",
       "      <td>0.198</td>\n",
       "      <td>0.821</td>\n",
       "      <td>0.002</td>\n",
       "    </tr>\n",
       "  </tbody>\n",
       "</table>\n",
       "</div>"
      ],
      "text/plain": [
       "  Source  ddof1    ddof2      F  p-unc    np2\n",
       "0  group      2  132.988  0.198  0.821  0.002"
      ]
     },
     "execution_count": 69,
     "metadata": {},
     "output_type": "execute_result"
    }
   ],
   "source": [
    "pg.welch_anova(dv='domestic abuse hotline', between='group', data=dfgroups).round(3)"
   ]
  },
  {
   "cell_type": "code",
   "execution_count": 70,
   "id": "e8895013-81f4-4893-87e2-f41b5caec606",
   "metadata": {},
   "outputs": [
    {
     "data": {
      "text/html": [
       "<div>\n",
       "<style scoped>\n",
       "    .dataframe tbody tr th:only-of-type {\n",
       "        vertical-align: middle;\n",
       "    }\n",
       "\n",
       "    .dataframe tbody tr th {\n",
       "        vertical-align: top;\n",
       "    }\n",
       "\n",
       "    .dataframe thead th {\n",
       "        text-align: right;\n",
       "    }\n",
       "</style>\n",
       "<table border=\"1\" class=\"dataframe\">\n",
       "  <thead>\n",
       "    <tr style=\"text-align: right;\">\n",
       "      <th></th>\n",
       "      <th>Source</th>\n",
       "      <th>ddof1</th>\n",
       "      <th>ddof2</th>\n",
       "      <th>F</th>\n",
       "      <th>p-unc</th>\n",
       "      <th>np2</th>\n",
       "    </tr>\n",
       "  </thead>\n",
       "  <tbody>\n",
       "    <tr>\n",
       "      <th>0</th>\n",
       "      <td>group</td>\n",
       "      <td>2</td>\n",
       "      <td>181.333</td>\n",
       "      <td>0.498</td>\n",
       "      <td>0.608</td>\n",
       "      <td>0.01</td>\n",
       "    </tr>\n",
       "  </tbody>\n",
       "</table>\n",
       "</div>"
      ],
      "text/plain": [
       "  Source  ddof1    ddof2      F  p-unc   np2\n",
       "0  group      2  181.333  0.498  0.608  0.01"
      ]
     },
     "execution_count": 70,
     "metadata": {},
     "output_type": "execute_result"
    }
   ],
   "source": [
    "pg.welch_anova(dv='domestic abuse help', between='group', data=dfgroups).round(3)"
   ]
  },
  {
   "cell_type": "code",
   "execution_count": 71,
   "id": "315e136d-ae62-4f34-b6ce-6fdd96eee7ec",
   "metadata": {},
   "outputs": [
    {
     "data": {
      "text/html": [
       "<div>\n",
       "<style scoped>\n",
       "    .dataframe tbody tr th:only-of-type {\n",
       "        vertical-align: middle;\n",
       "    }\n",
       "\n",
       "    .dataframe tbody tr th {\n",
       "        vertical-align: top;\n",
       "    }\n",
       "\n",
       "    .dataframe thead th {\n",
       "        text-align: right;\n",
       "    }\n",
       "</style>\n",
       "<table border=\"1\" class=\"dataframe\">\n",
       "  <thead>\n",
       "    <tr style=\"text-align: right;\">\n",
       "      <th></th>\n",
       "      <th>Source</th>\n",
       "      <th>ddof1</th>\n",
       "      <th>ddof2</th>\n",
       "      <th>F</th>\n",
       "      <th>p-unc</th>\n",
       "      <th>np2</th>\n",
       "    </tr>\n",
       "  </thead>\n",
       "  <tbody>\n",
       "    <tr>\n",
       "      <th>0</th>\n",
       "      <td>group</td>\n",
       "      <td>2</td>\n",
       "      <td>132.902</td>\n",
       "      <td>2.226</td>\n",
       "      <td>0.112</td>\n",
       "      <td>0.018</td>\n",
       "    </tr>\n",
       "  </tbody>\n",
       "</table>\n",
       "</div>"
      ],
      "text/plain": [
       "  Source  ddof1    ddof2      F  p-unc    np2\n",
       "0  group      2  132.902  2.226  0.112  0.018"
      ]
     },
     "execution_count": 71,
     "metadata": {},
     "output_type": "execute_result"
    }
   ],
   "source": [
    "pg.welch_anova(dv='order of protection', between='group', data=dfgroups).round(3)"
   ]
  },
  {
   "cell_type": "code",
   "execution_count": 55,
   "id": "6c5c49ab-bd8a-48e2-9934-61167af35f7e",
   "metadata": {},
   "outputs": [
    {
     "data": {
      "image/png": "[encoded data removed]",
      "text/plain": [
       "<Figure size 720x504 with 5 Axes>"
      ]
     },
     "metadata": {
      "needs_background": "light"
     },
     "output_type": "display_data"
    }
   ],
   "source": [
    "plt.figure(figsize=(10,7))\n",
    "\n",
    "plt.subplot(5, 1, 1)\n",
    "plt.plot(dfgroups['date'], dfgroups[\"domestic violence help\"],'black')\n",
    "plt.title('Domestic Violence Help')\n",
    "\n",
    "plt.subplot(5, 1, 2)\n",
    "plt.plot(dfgroups['date'], dfgroups[\"domestic violence hotline\"],'red')\n",
    "plt.title('Domestic Violence Hotline')\n",
    "\n",
    "plt.subplot(5, 1, 3)\n",
    "plt.plot(dfgroups['date'],dfgroups[\"domestic abuse help\"],'orange')\n",
    "plt.title('Domestic Abuse Help')\n",
    "\n",
    "plt.subplot(5, 1, 4)\n",
    "plt.plot(dfgroups['date'],dfgroups[\"domestic abuse hotline\"],'green')\n",
    "plt.title('Domestic Abuse Hotline')\n",
    "\n",
    "plt.subplot(5, 1, 5)\n",
    "plt.plot(dfgroups['date'],dfgroups[\"order of protection\"],'blue')\n",
    "plt.title('Order of Protection')\n",
    "\n",
    "plt.tight_layout()\n",
    "plt.savefig(\"rawsearchtermsgraph.png\", dpi = 350)\n",
    "plt.show();"
   ]
  },
  {
   "cell_type": "code",
   "execution_count": null,
   "id": "d6bd9e15-d2d0-4b84-aa1a-3ae68d4f3a37",
   "metadata": {},
   "outputs": [],
   "source": []
  },
  {
   "cell_type": "code",
   "execution_count": null,
   "id": "a7c78719",
   "metadata": {},
   "outputs": [],
   "source": []
  }
 ],
 "metadata": {
  "kernelspec": {
   "display_name": "Python 3",
   "language": "python",
   "name": "python3"
  },
  "language_info": {
   "codemirror_mode": {
    "name": "ipython",
    "version": 3
   },
   "file_extension": ".py",
   "mimetype": "text/x-python",
   "name": "python",
   "nbconvert_exporter": "python",
   "pygments_lexer": "ipython3",
   "version": "3.8.8"
  },
  "widgets": {
   "application/vnd.jupyter.widget-state+json": {
    "state": {},
    "version_major": 2,
    "version_minor": 0
   }
  }
 },
 "nbformat": 4,
 "nbformat_minor": 5
}
